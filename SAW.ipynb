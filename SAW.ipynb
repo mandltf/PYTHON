{
 "cells": [
  {
   "cell_type": "markdown",
   "metadata": {},
   "source": [
    "### SAW-Pemilihan Kucing"
   ]
  },
  {
   "cell_type": "markdown",
   "metadata": {},
   "source": [
    "Alternatif kriteria dan bobot"
   ]
  },
  {
   "cell_type": "code",
   "execution_count": 1,
   "metadata": {},
   "outputs": [],
   "source": [
    "import numpy as np\n",
    "import pandas as pd"
   ]
  },
  {
   "cell_type": "markdown",
   "metadata": {},
   "source": [
    "Alternatif"
   ]
  },
  {
   "cell_type": "code",
   "execution_count": 2,
   "metadata": {},
   "outputs": [
    {
     "name": "stdout",
     "output_type": "stream",
     "text": [
      "Matriks Keputusan : \n",
      "          Kesehatan  Keaktifan  Harga\n",
      "Kucing A          4          3      3\n",
      "Kucing B          5          4      5\n",
      "Kucing C          3          5      1\n",
      "\n",
      "Bobot yang diberikan\n",
      "Bobot :  [0.5 0.3 0.2]\n",
      "\n",
      "Atribut tiap kriteria\n",
      "Atribut :  [1 1 0]\n"
     ]
    }
   ],
   "source": [
    "alternatif = ['Kucing A','Kucing B','Kucing C']\n",
    "kriteria = ['Kesehatan','Keaktifan','Harga']\n",
    "\n",
    "data = np.array([\n",
    "    [4,3,3], #kucing a\n",
    "    [5,4,5], #kucing b\n",
    "    [3,5,1] #kucing c\n",
    "])\n",
    "\n",
    "#menentukan nilai atribut masing-masing kriteria (1=benefit, 0 =cost)\n",
    "atribut = np.array([1,1,0])\n",
    "\n",
    "#bobot\n",
    "bobot = np.array([0.5,0.3,0.2])\n",
    "\n",
    "df = pd.DataFrame(data, index=alternatif, columns=kriteria)\n",
    "print(\"Matriks Keputusan : \")\n",
    "print(df)\n",
    "\n",
    "print(\"\\nBobot yang diberikan\")\n",
    "print(\"Bobot : \",bobot)\n",
    "print(\"\\nAtribut tiap kriteria\")\n",
    "print(\"Atribut : \", atribut)\n"
   ]
  },
  {
   "cell_type": "markdown",
   "metadata": {},
   "source": [
    "Tahap 1 : Normalisasi"
   ]
  },
  {
   "cell_type": "code",
   "execution_count": 3,
   "metadata": {},
   "outputs": [
    {
     "name": "stdout",
     "output_type": "stream",
     "text": [
      "Matriks Ternomalisasi : \n",
      "          Kesehatan  Keaktifan     Harga\n",
      "Kucing A        0.8        0.6  0.333333\n",
      "Kucing B        1.0        0.8  0.200000\n",
      "Kucing C        0.6        1.0  1.000000\n"
     ]
    }
   ],
   "source": [
    "m, n = data.shape\n",
    "normalized_matrix = np.zeros((m,n))\n",
    "\n",
    "#normalisasi\n",
    "for j in range(n):\n",
    "    if atribut[j] == 1: #kriteria benefit\n",
    "        normalized_matrix[:,j] = data[:,j] / np.max(data[:,j])\n",
    "    else: #kriteria cost\n",
    "        normalized_matrix[:,j] = np.min(data[:,j]) / data[:,j]\n",
    "\n",
    "normalized_df = pd.DataFrame(normalized_matrix, index=alternatif, columns=kriteria)\n",
    "print(\"Matriks Ternomalisasi : \")\n",
    "print(normalized_df)"
   ]
  },
  {
   "cell_type": "markdown",
   "metadata": {},
   "source": [
    "Tahap 2 : Menghitung nilai preferensi"
   ]
  },
  {
   "cell_type": "code",
   "execution_count": 5,
   "metadata": {},
   "outputs": [
    {
     "name": "stdout",
     "output_type": "stream",
     "text": [
      "\n",
      "HasilRanking : \n",
      "          Nilai Preferensi\n",
      "Kucing C          0.800000\n",
      "Kucing B          0.780000\n",
      "Kucing A          0.646667\n",
      "\n",
      "Alternatif terbaik adalah :  Kucing C\n"
     ]
    }
   ],
   "source": [
    "value_preferensi = np.dot(normalized_matrix,bobot)\n",
    "\n",
    "#hasil\n",
    "ranking = pd.DataFrame(value_preferensi, index=alternatif,columns=['Nilai Preferensi'])\n",
    "sort_ranking = ranking.sort_values(by='Nilai Preferensi',ascending=False)\n",
    "print(\"\\nHasilRanking : \")\n",
    "print(sort_ranking)\n",
    "\n",
    "best_alternatif = sort_ranking.index[0]\n",
    "print(\"\\nAlternatif terbaik adalah : \",best_alternatif)"
   ]
  }
 ],
 "metadata": {
  "kernelspec": {
   "display_name": "Python 3",
   "language": "python",
   "name": "python3"
  },
  "language_info": {
   "codemirror_mode": {
    "name": "ipython",
    "version": 3
   },
   "file_extension": ".py",
   "mimetype": "text/x-python",
   "name": "python",
   "nbconvert_exporter": "python",
   "pygments_lexer": "ipython3",
   "version": "3.13.2"
  }
 },
 "nbformat": 4,
 "nbformat_minor": 2
}
