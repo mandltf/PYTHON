{
 "cells": [
  {
   "cell_type": "markdown",
   "metadata": {},
   "source": [
    "### 1. Pengenalan Python"
   ]
  },
  {
   "cell_type": "markdown",
   "metadata": {},
   "source": [
    " 1.1 Tipe Data dan Variabel"
   ]
  },
  {
   "cell_type": "code",
   "execution_count": null,
   "metadata": {},
   "outputs": [
    {
     "name": "stdout",
     "output_type": "stream",
     "text": [
      "integer a :  10\n",
      "float b :  3.14\n",
      "string c :  manda\n",
      "bool d :  True\n",
      "list e :  1\n",
      "nama :  Manda\n",
      "usia :  19\n"
     ]
    }
   ],
   "source": [
    "integer_a = 10\n",
    "float_b = 3.14\n",
    "string_c = \"manda\"\n",
    "bool_d = True\n",
    "list_e = [1,2,3,4]\n",
    "dict_f = {\"nama\": \"Manda\", \"usia\":19}\n",
    "\n",
    "print(\"integer a : \", integer_a)\n",
    "print(\"float b : \", float_b)\n",
    "print(\"string c : \", string_c)\n",
    "print(\"bool d : \", bool_d)\n",
    "print(\"list e : \", list_e[0])\n",
    "print(\"nama : \", dict_f[\"nama\"])\n",
    "print(\"usia : \", dict_f[\"usia\"])"
   ]
  },
  {
   "cell_type": "markdown",
   "metadata": {},
   "source": [
    "1.2 Input Nilai"
   ]
  },
  {
   "cell_type": "code",
   "execution_count": 2,
   "metadata": {},
   "outputs": [
    {
     "name": "stdout",
     "output_type": "stream",
     "text": [
      "100\n",
      "manda\n"
     ]
    }
   ],
   "source": [
    "a = input(\"Masukkan Nilai integer : \")\n",
    "b = input(\"Masukkan Nilai String : \")\n",
    "\n",
    "print(a)\n",
    "print(b)"
   ]
  },
  {
   "cell_type": "markdown",
   "metadata": {},
   "source": [
    "1.3 Operator"
   ]
  },
  {
   "cell_type": "code",
   "execution_count": 12,
   "metadata": {},
   "outputs": [
    {
     "name": "stdout",
     "output_type": "stream",
     "text": [
      "penjumlahan\t:  89.0\n",
      "pengurangan\t:  -71.0\n",
      "perkalian\t:  720.0\n",
      "pembagian\t:  0.1125\n",
      "modulus\t\t:  9.0\n",
      "eksponen\t:  2.184745005283921e+76\n",
      "pembagian bulat\t:  0.0\n"
     ]
    }
   ],
   "source": [
    "# x = 10\n",
    "# y = 5.3\n",
    "x = float(input(\"x : \"))\n",
    "y = int(input(\"y : \"))\n",
    "# print(f\"x : {x}\\ny : {y}\")\n",
    "print(\"penjumlahan\\t: \", x + y)\n",
    "print(\"pengurangan\\t: \", x - y)\n",
    "print(\"perkalian\\t: \", x * y)\n",
    "print(\"pembagian\\t: \", x / y)\n",
    "print(\"modulus\\t\\t: \", x % y)\n",
    "print(\"eksponen\\t: \", x ** y)\n",
    "print(\"pembagian bulat\\t: \", x // y)"
   ]
  },
  {
   "cell_type": "markdown",
   "metadata": {},
   "source": [
    "1.4 Percabangan"
   ]
  },
  {
   "cell_type": "code",
   "execution_count": null,
   "metadata": {},
   "outputs": [
    {
     "name": "stdout",
     "output_type": "stream",
     "text": [
      "Nilai C\n"
     ]
    }
   ],
   "source": [
    "nilai = int(input(\"Masukkan nilai : \"))\n",
    "\n",
    "if nilai >= 85 :\n",
    "    print(\"Nilai A\")\n",
    "elif nilai >= 75 :\n",
    "    print(\"Nilai B\")\n",
    "elif 64 <= nilai <=74 :\n",
    "    print(\"Nilai C\")\n",
    "else :\n",
    "    print(\"Nilai D\")"
   ]
  },
  {
   "cell_type": "markdown",
   "metadata": {},
   "source": [
    "1.5 Looping"
   ]
  },
  {
   "cell_type": "code",
   "execution_count": 18,
   "metadata": {},
   "outputs": [
    {
     "name": "stdout",
     "output_type": "stream",
     "text": [
      "Kamu orang favoritku\n",
      "no-1\n",
      "no-2\n",
      "no-4\n",
      "no-5\n",
      "Halo,  manda\n",
      "Halo,  mandi\n",
      "Halo,  mandut\n"
     ]
    }
   ],
   "source": [
    "print(\"Kamu orang favoritku\")\n",
    "for i in range(1,3) :\n",
    "    print(f\"no-{i}\")\n",
    "# print(f\"iterasi ke-{i}\") ini gabakal ke output karna satu kolom dengan for\n",
    "\n",
    "count = 4\n",
    "while count < 6 :\n",
    "    print(f\"no-{count}\")\n",
    "    count += 1\n",
    "\n",
    "mhs = [\"manda\", \"mandi\",\"mandut\"]\n",
    "for nama in mhs :\n",
    "    print(\"Halo, \",nama)"
   ]
  },
  {
   "cell_type": "markdown",
   "metadata": {},
   "source": [
    "1.6 Fungsi"
   ]
  },
  {
   "cell_type": "code",
   "execution_count": 19,
   "metadata": {},
   "outputs": [
    {
     "name": "stdout",
     "output_type": "stream",
     "text": [
      "('Halo,', 'Manda')\n",
      "luas persegi:  25\n"
     ]
    }
   ],
   "source": [
    "def sapa(nama) :\n",
    "    return(\"Halo,\", nama)\n",
    "print(sapa(\"Manda\"))\n",
    "\n",
    "def luaspersegi(sisi) :\n",
    "    return sisi ** 2\n",
    "print(\"luas persegi: \",luaspersegi(5))"
   ]
  }
 ],
 "metadata": {
  "kernelspec": {
   "display_name": "Python 3",
   "language": "python",
   "name": "python3"
  },
  "language_info": {
   "codemirror_mode": {
    "name": "ipython",
    "version": 3
   },
   "file_extension": ".py",
   "mimetype": "text/x-python",
   "name": "python",
   "nbconvert_exporter": "python",
   "pygments_lexer": "ipython3",
   "version": "3.13.2"
  }
 },
 "nbformat": 4,
 "nbformat_minor": 2
}
