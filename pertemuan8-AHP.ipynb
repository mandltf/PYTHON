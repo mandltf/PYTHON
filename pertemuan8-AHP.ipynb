{
 "cells": [
  {
   "cell_type": "markdown",
   "id": "a20d7c6d",
   "metadata": {},
   "source": [
    "### 8. Analytical Hierarchy Process (AHP)"
   ]
  },
  {
   "cell_type": "markdown",
   "id": "bae9e8d3",
   "metadata": {},
   "source": [
    "Alternatif:\n",
    "- Yamaha\n",
    "- Honda\n",
    "- Suzuki\n",
    "- Kawasaki\n",
    "\n",
    "Kriteria:\n",
    "- Gaya\n",
    "- Keandalan\n",
    "- Keenomisan\n",
    "\n",
    "Preferensi Kriteria\n",
    "1. Keandalan 2x Gaya\n",
    "2. Gaya 3x Keenomisan\n",
    "3. Keandalan 4x keenomisan\n",
    "\n",
    "Preferensi Alternatif\n",
    "1. Gaya: Kawasaki > Honda > Yamaha > Suzuki\n",
    "2. Keandalan: Honda > Yamaha > Kawasaki > Suzuki\n",
    "3. Keandalan 4x keekonomisan"
   ]
  },
  {
   "cell_type": "code",
   "execution_count": 1,
   "id": "57dba42a",
   "metadata": {},
   "outputs": [],
   "source": [
    "import numpy as np"
   ]
  },
  {
   "cell_type": "markdown",
   "id": "a382958a",
   "metadata": {},
   "source": [
    "8.1 Fungsi Normalisasi"
   ]
  },
  {
   "cell_type": "code",
   "execution_count": 5,
   "id": "8830f11a",
   "metadata": {},
   "outputs": [],
   "source": [
    "def calc_norm(M):\n",
    "    print ('Normalisasi Matriks')\n",
    "    if M.ndim == 1 :\n",
    "        sM = np.sum(M)\n",
    "        return M/sM\n",
    "    else:\n",
    "        sM = np.sum(M, axis = 0)\n",
    "        return M/sM"
   ]
  },
  {
   "cell_type": "markdown",
   "id": "5dd3a301",
   "metadata": {},
   "source": [
    "8.2 Matriks kriteria dan Eigen Vektor"
   ]
  },
  {
   "cell_type": "code",
   "execution_count": 6,
   "id": "55336a39",
   "metadata": {},
   "outputs": [
    {
     "name": "stdout",
     "output_type": "stream",
     "text": [
      "[[1.         0.5        3.        ]\n",
      " [2.         1.         4.        ]\n",
      " [0.33333333 0.25       1.        ]]\n"
     ]
    }
   ],
   "source": [
    "MPBK = np.array([\n",
    "    [1/1, 1/2, 3/1],\n",
    "    [2/1, 1/1, 4/1],\n",
    "    [1/3, 1/4, 1/1]\n",
    "])\n",
    "\n",
    "print(MPBK)"
   ]
  },
  {
   "cell_type": "markdown",
   "id": "667577b8",
   "metadata": {},
   "source": [
    "8.3 Normalisasi"
   ]
  },
  {
   "cell_type": "code",
   "execution_count": 10,
   "id": "665dac49",
   "metadata": {},
   "outputs": [
    {
     "name": "stdout",
     "output_type": "stream",
     "text": [
      "Normalisasi Matriks\n",
      "[[0.3        0.28571429 0.375     ]\n",
      " [0.6        0.57142857 0.5       ]\n",
      " [0.1        0.14285714 0.125     ]]\n"
     ]
    }
   ],
   "source": [
    "w_MPB = calc_norm(MPBK)\n",
    "print(w_MPB)"
   ]
  },
  {
   "cell_type": "markdown",
   "id": "cd7551b4",
   "metadata": {},
   "source": [
    "8.4 Eigen Vektor"
   ]
  },
  {
   "cell_type": "code",
   "execution_count": 11,
   "id": "9948cfd7",
   "metadata": {},
   "outputs": [
    {
     "name": "stdout",
     "output_type": "stream",
     "text": [
      "Eigen Vector\n",
      "[0.3202381  0.55714286 0.12261905]\n"
     ]
    }
   ],
   "source": [
    "m, n = w_MPB.shape\n",
    "V = np.zeros(m)\n",
    "for i in range(m):\n",
    "    V[i] = np.sum(w_MPB[i, :])\n",
    "\n",
    "print('Eigen Vector')\n",
    "w_MPB = V / m\n",
    "print(w_MPB)"
   ]
  },
  {
   "cell_type": "markdown",
   "id": "432568b7",
   "metadata": {},
   "source": [
    "8.5 Matriks dan Eigen Vector Alternatif"
   ]
  },
  {
   "cell_type": "markdown",
   "id": "3a024e96",
   "metadata": {},
   "source": [
    "a. Alternatif Gaya"
   ]
  },
  {
   "cell_type": "code",
   "execution_count": 13,
   "id": "91c6b54b",
   "metadata": {},
   "outputs": [
    {
     "name": "stdout",
     "output_type": "stream",
     "text": [
      "MPg : Alternatif Kualitatif Berpasangan\n",
      "[[1.         0.5        2.         0.33333333]\n",
      " [2.         1.         3.         0.5       ]\n",
      " [0.5        0.33333333 1.         0.25      ]\n",
      " [3.         2.         4.         1.        ]]\n"
     ]
    }
   ],
   "source": [
    "print('MPg : Alternatif Kualitatif Berpasangan')\n",
    "AKB_G = np.array([\n",
    "    [1/1, 1/2, 2/1, 1/3],\n",
    "    [2/1, 1/1, 3/1, 1/2],\n",
    "    [1/2, 1/3, 1/1, 1/4],\n",
    "    [3/1, 2/1, 4/1, 1/1]\n",
    "])\n",
    "\n",
    "print(AKB_G)"
   ]
  },
  {
   "cell_type": "markdown",
   "id": "bed374f3",
   "metadata": {},
   "source": [
    "- normalisasi"
   ]
  },
  {
   "cell_type": "code",
   "execution_count": 15,
   "id": "7a310c2a",
   "metadata": {},
   "outputs": [
    {
     "name": "stdout",
     "output_type": "stream",
     "text": [
      "Normalisasi Matriks\n",
      "[[0.15384615 0.13043478 0.2        0.16      ]\n",
      " [0.30769231 0.26086957 0.3        0.24      ]\n",
      " [0.07692308 0.08695652 0.1        0.12      ]\n",
      " [0.46153846 0.52173913 0.4        0.48      ]]\n"
     ]
    }
   ],
   "source": [
    "w_G = calc_norm(AKB_G)\n",
    "print(w_G)"
   ]
  },
  {
   "cell_type": "markdown",
   "id": "38bf4709",
   "metadata": {},
   "source": [
    "- Eigen Vector"
   ]
  },
  {
   "cell_type": "code",
   "execution_count": 16,
   "id": "c6626c52",
   "metadata": {},
   "outputs": [
    {
     "name": "stdout",
     "output_type": "stream",
     "text": [
      "Eigen Vector\n",
      "[0.16107023 0.27714047 0.0959699  0.4658194 ]\n"
     ]
    }
   ],
   "source": [
    "m, n = w_G.shape\n",
    "V = np.zeros(m)\n",
    "for i in range(m):\n",
    "    V[i] = np.sum(w_G[i, :])\n",
    "\n",
    "print('Eigen Vector')\n",
    "w_G = V / m\n",
    "print(w_G)"
   ]
  },
  {
   "cell_type": "markdown",
   "id": "fddd78e9",
   "metadata": {},
   "source": [
    "b. Alternatif Keandalan"
   ]
  },
  {
   "cell_type": "code",
   "execution_count": 17,
   "id": "197ee999",
   "metadata": {},
   "outputs": [
    {
     "name": "stdout",
     "output_type": "stream",
     "text": [
      "MPa : Alternatif Kualitatif Berpasangan\n",
      "[[1.         0.5        3.         2.        ]\n",
      " [2.         1.         4.         3.        ]\n",
      " [0.33333333 0.25       1.         0.5       ]\n",
      " [0.5        0.33333333 2.         1.        ]]\n"
     ]
    }
   ],
   "source": [
    "print('MPa : Alternatif Kualitatif Berpasangan')\n",
    "AKB_A = np.array([\n",
    "    [1/1, 1/2, 3/1, 2/1],\n",
    "    [2/1, 1/1, 4/1, 3/1],\n",
    "    [1/3, 1/4, 1/1, 1/2],\n",
    "    [1/2, 1/3, 2/1, 1/1]\n",
    "])\n",
    "\n",
    "print(AKB_A)"
   ]
  },
  {
   "cell_type": "markdown",
   "id": "31b47ab0",
   "metadata": {},
   "source": [
    "- Normalisasi"
   ]
  },
  {
   "cell_type": "code",
   "execution_count": 18,
   "id": "68feb154",
   "metadata": {},
   "outputs": [
    {
     "name": "stdout",
     "output_type": "stream",
     "text": [
      "Normalisasi Matriks\n",
      "[[0.26086957 0.24       0.3        0.30769231]\n",
      " [0.52173913 0.48       0.4        0.46153846]\n",
      " [0.08695652 0.12       0.1        0.07692308]\n",
      " [0.13043478 0.16       0.2        0.15384615]]\n"
     ]
    }
   ],
   "source": [
    "w_A = calc_norm(AKB_A)\n",
    "print(w_A)"
   ]
  },
  {
   "cell_type": "markdown",
   "id": "ece38cce",
   "metadata": {},
   "source": [
    "- Eigen Vector"
   ]
  },
  {
   "cell_type": "code",
   "execution_count": 19,
   "id": "d8e6c5dc",
   "metadata": {},
   "outputs": [
    {
     "name": "stdout",
     "output_type": "stream",
     "text": [
      "Eigen Vector\n",
      "[0.27714047 0.4658194  0.0959699  0.16107023]\n"
     ]
    }
   ],
   "source": [
    "m, n = w_A.shape\n",
    "V = np.zeros(m)\n",
    "for i in range(m):\n",
    "    V[i] = np.sum(w_A[i, :])\n",
    "\n",
    "print('Eigen Vector')\n",
    "w_A = V / m\n",
    "print(w_A)"
   ]
  },
  {
   "cell_type": "markdown",
   "id": "76e33a8a",
   "metadata": {},
   "source": [
    "c. Alternatif Keekonomisan"
   ]
  },
  {
   "cell_type": "code",
   "execution_count": 29,
   "id": "27c93b68",
   "metadata": {},
   "outputs": [
    {
     "name": "stdout",
     "output_type": "stream",
     "text": [
      "Perbandingan Keekonomisan Bahan Bakar : Alternatif Kuantitatif\n",
      "[60 80 60 80]\n"
     ]
    }
   ],
   "source": [
    "print('Perbandingan Keekonomisan Bahan Bakar : Alternatif Kuantitatif')\n",
    "ym = 60\n",
    "hn = 80\n",
    "sz = 60\n",
    "kw = 80\n",
    "\n",
    "ACM_Fe = np.array([ym, hn, sz, kw])\n",
    "print(ACM_Fe)"
   ]
  },
  {
   "cell_type": "markdown",
   "id": "37ec99b7",
   "metadata": {},
   "source": [
    "- normalisasi"
   ]
  },
  {
   "cell_type": "code",
   "execution_count": 30,
   "id": "a9419f90",
   "metadata": {},
   "outputs": [
    {
     "name": "stdout",
     "output_type": "stream",
     "text": [
      "Normalisasi Matriks\n",
      "[0.21428571 0.28571429 0.21428571 0.28571429]\n"
     ]
    }
   ],
   "source": [
    "w_E = calc_norm(ACM_Fe)\n",
    "print(w_E)"
   ]
  },
  {
   "cell_type": "markdown",
   "id": "374a2437",
   "metadata": {},
   "source": [
    "d. Gabung Nilai Eigen Vector"
   ]
  },
  {
   "cell_type": "code",
   "execution_count": 32,
   "id": "a353f970",
   "metadata": {},
   "outputs": [
    {
     "name": "stdout",
     "output_type": "stream",
     "text": [
      "[[0.16107023 0.27714047 0.21428571]\n",
      " [0.27714047 0.4658194  0.28571429]\n",
      " [0.0959699  0.0959699  0.21428571]\n",
      " [0.4658194  0.16107023 0.28571429]]\n"
     ]
    }
   ],
   "source": [
    "wM = np.column_stack([w_G, w_A, w_E])\n",
    "print(wM)"
   ]
  },
  {
   "cell_type": "markdown",
   "id": "0be25887",
   "metadata": {},
   "source": [
    "e. Menghitung Score Akhir"
   ]
  },
  {
   "cell_type": "code",
   "execution_count": 35,
   "id": "f152507d",
   "metadata": {},
   "outputs": [
    {
     "name": "stdout",
     "output_type": "stream",
     "text": [
      "Nilai Akhir untuk : Y, H, S, K\n",
      "[0.23226317 0.3833129  0.11047767 0.27394626]\n"
     ]
    }
   ],
   "source": [
    "print('Nilai Akhir untuk : Y, H, S, K')\n",
    "MC_Score = np.dot(wM, w_MPB)\n",
    "print(MC_Score)"
   ]
  },
  {
   "cell_type": "markdown",
   "id": "edb58eb2",
   "metadata": {},
   "source": [
    "Mencari Motor Terbaik"
   ]
  },
  {
   "cell_type": "code",
   "execution_count": 36,
   "id": "0e792b40",
   "metadata": {},
   "outputs": [
    {
     "name": "stdout",
     "output_type": "stream",
     "text": [
      "Nilai motor terbaik terpilih berdasarkan manfaat kriteria\n",
      "0.3833128995745455\n"
     ]
    }
   ],
   "source": [
    "print('Nilai motor terbaik terpilih berdasarkan manfaat kriteria')\n",
    "Max_Motor_Score = np.max(MC_Score)\n",
    "print(Max_Motor_Score)"
   ]
  }
 ],
 "metadata": {
  "kernelspec": {
   "display_name": "Python 3",
   "language": "python",
   "name": "python3"
  },
  "language_info": {
   "codemirror_mode": {
    "name": "ipython",
    "version": 3
   },
   "file_extension": ".py",
   "mimetype": "text/x-python",
   "name": "python",
   "nbconvert_exporter": "python",
   "pygments_lexer": "ipython3",
   "version": "3.13.2"
  }
 },
 "nbformat": 4,
 "nbformat_minor": 5
}
