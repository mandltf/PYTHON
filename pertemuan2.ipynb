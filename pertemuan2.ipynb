{
 "cells": [
  {
   "cell_type": "markdown",
   "metadata": {},
   "source": [
    "### 2. Matriks"
   ]
  },
  {
   "cell_type": "markdown",
   "metadata": {},
   "source": [
    "2.1 Pendefinisian Matriks"
   ]
  },
  {
   "cell_type": "code",
   "execution_count": 1,
   "metadata": {},
   "outputs": [],
   "source": [
    "import numpy as np"
   ]
  },
  {
   "cell_type": "code",
   "execution_count": 8,
   "metadata": {},
   "outputs": [
    {
     "name": "stdout",
     "output_type": "stream",
     "text": [
      "Skalar:\n",
      " 5\n",
      "Vektor baris:  [1 2 3]\n",
      "\n",
      "\n",
      "Matriks 2D:\n",
      " [[1 2 3]\n",
      " [4 5 6]]\n",
      "Matriks 3D:\n",
      " [[1 2 3]\n",
      " [4 5 6]\n",
      " [7 8 9]]\n"
     ]
    }
   ],
   "source": [
    "\n",
    "#Skalar\n",
    "scalar = np.array(5)\n",
    "print(\"Skalar:\\n\", scalar)\n",
    "\n",
    "#Vektor baris (1xn)\n",
    "vector_row = np.array([1, 2, 3])\n",
    "print(\"Vektor baris: \", vector_row)\n",
    "print(\"\\n\")\n",
    "\n",
    "#Matriks 2D\n",
    "matrix = np.array([[1,2,3],[4,5,6]])\n",
    "print(\"Matriks 2D:\\n\", matrix)\n",
    "\n",
    "#Matriks 3D\n",
    "matrix_3d = np.array([[1,2,3],[4,5,6],[7,8,9]])\n",
    "print(\"Matriks 3D:\\n\", matrix_3d)"
   ]
  },
  {
   "cell_type": "markdown",
   "metadata": {},
   "source": [
    "2.2 Operasi Matriks"
   ]
  },
  {
   "cell_type": "code",
   "execution_count": 10,
   "metadata": {},
   "outputs": [
    {
     "name": "stdout",
     "output_type": "stream",
     "text": [
      "Hasil penjumlahan: \n",
      " [[ 6  8]\n",
      " [10 12]]\n",
      "Hasil pengurangan: \n",
      " [[-4 -4]\n",
      " [-4 -4]]\n",
      "Hasil perkalian: \n",
      " [[334 416]\n",
      " [758 944]]\n",
      "Hasil transpose: \n",
      " [[1 3]\n",
      " [2 4]]\n"
     ]
    }
   ],
   "source": [
    "A = np.array([[1,2],[3,4]])\n",
    "B = np.array([[5,6],[7,8]])\n",
    "\n",
    "#Penjumlahan\n",
    "C = A + B\n",
    "print(\"Hasil penjumlahan: \\n\", C)\n",
    "\n",
    "#Pengurangan\n",
    "D = A - B\n",
    "print(\"Hasil pengurangan: \\n\", D)\n",
    "\n",
    "#Perkalian\n",
    "E = np.dot(np.dot(A, B), C) #atau E = A * B\n",
    "print(\"Hasil perkalian: \\n\", E)\n",
    "\n",
    "#Tranpose\n",
    "F = np.transpose(A) #atau A.T\n",
    "print(\"Hasil transpose: \\n\", F)"
   ]
  },
  {
   "cell_type": "markdown",
   "metadata": {},
   "source": [
    "2.3 Operasi Elemen pada Matriks"
   ]
  },
  {
   "cell_type": "code",
   "execution_count": 12,
   "metadata": {},
   "outputs": [
    {
     "name": "stdout",
     "output_type": "stream",
     "text": [
      "Perkalian per elemen:\n",
      " [[ 5 12]\n",
      " [21 32]]\n",
      "Pangkat elemen:\n",
      " [[ 1  4]\n",
      " [ 9 16]]\n"
     ]
    }
   ],
   "source": [
    "G = A * B #klo bintang dikali perelemen klo dot dikali matriksnya\n",
    "print(\"Perkalian per elemen:\\n\", G)\n",
    "\n",
    "H = A**2\n",
    "print(\"Pangkat elemen:\\n\", H)"
   ]
  },
  {
   "cell_type": "markdown",
   "metadata": {},
   "source": [
    "2.4 Penyelesaian SPL Matriks"
   ]
  },
  {
   "cell_type": "code",
   "execution_count": 13,
   "metadata": {},
   "outputs": [
    {
     "name": "stdout",
     "output_type": "stream",
     "text": [
      "Hasil:  [4. 3.]\n"
     ]
    }
   ],
   "source": [
    "# x + 2y = 10\n",
    "# 3x + 4y = 24\n",
    "\n",
    "A = np.array([[1,2],[3,4]])\n",
    "B = np.array([10,24])\n",
    "\n",
    "# Solve the system of equations\n",
    "X = np.linalg.solve(A, B)\n",
    "print(\"Hasil: \", X)"
   ]
  },
  {
   "cell_type": "markdown",
   "metadata": {},
   "source": [
    "2.5 Manipulasi"
   ]
  },
  {
   "cell_type": "code",
   "execution_count": 15,
   "metadata": {},
   "outputs": [
    {
     "name": "stdout",
     "output_type": "stream",
     "text": [
      "Hasil:\n",
      " [[1 2 5 6]\n",
      " [3 4 7 8]]\n",
      "Hasil:\n",
      " [[1 2]\n",
      " [3 4]\n",
      " [5 6]\n",
      " [7 8]]\n"
     ]
    }
   ],
   "source": [
    "A = np.array([[1,2],[3,4]])\n",
    "B = np.array([[5,6],[7,8]])\n",
    "\n",
    "#Penggabungan Horizontal\n",
    "H = np.hstack((A, B))\n",
    "print(\"Hasil:\\n\", H)\n",
    "\n",
    "#Penggabungan Vertikal\n",
    "H = np.vstack((A, B))\n",
    "print(\"Hasil:\\n\", H)"
   ]
  }
 ],
 "metadata": {
  "kernelspec": {
   "display_name": "Python 3",
   "language": "python",
   "name": "python3"
  },
  "language_info": {
   "codemirror_mode": {
    "name": "ipython",
    "version": 3
   },
   "file_extension": ".py",
   "mimetype": "text/x-python",
   "name": "python",
   "nbconvert_exporter": "python",
   "pygments_lexer": "ipython3",
   "version": "3.13.2"
  }
 },
 "nbformat": 4,
 "nbformat_minor": 2
}
