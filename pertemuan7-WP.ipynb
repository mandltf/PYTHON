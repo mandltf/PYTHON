{
 "cells": [
  {
   "cell_type": "markdown",
   "id": "da7234d6",
   "metadata": {},
   "source": [
    "### 7. WEIGHTED PRODUCT (WP)"
   ]
  },
  {
   "cell_type": "markdown",
   "id": "1f211689",
   "metadata": {},
   "source": [
    "DSS - Pembelian mobil\n",
    "Alternatif :  Mobil a, b, b\n",
    "Kriteria : \n",
    "- C1 : Harga (Cost) - 5\n",
    "- C2 : BBM (Benefit) - 4\n",
    "- C3 : Kekuatan Mesin(Benefit) - 4"
   ]
  },
  {
   "cell_type": "markdown",
   "id": "43043126",
   "metadata": {},
   "source": [
    "7.1 Import library"
   ]
  },
  {
   "cell_type": "code",
   "execution_count": 3,
   "id": "f60496db",
   "metadata": {},
   "outputs": [],
   "source": [
    "import numpy as np\n",
    "import pandas as pd"
   ]
  },
  {
   "cell_type": "markdown",
   "id": "82344cb8",
   "metadata": {},
   "source": [
    "7.2 Data Alternatif dan Kriteria"
   ]
  },
  {
   "cell_type": "code",
   "execution_count": 4,
   "id": "c6aa4e07",
   "metadata": {},
   "outputs": [
    {
     "name": "stdout",
     "output_type": "stream",
     "text": [
      "         harga  BBM  kekuatan mesin\n",
      "Mobil a    300   15             150\n",
      "Mobil b    250   18             180\n",
      "Mobil c    350   12             160\n"
     ]
    }
   ],
   "source": [
    "# Data alternatif dan kriteria\n",
    "alternatif = ['Mobil a', 'Mobil b', 'Mobil c']\n",
    "kriteria = ['harga', 'BBM', 'kekuatan mesin']\n",
    "\n",
    "data = np.array([\n",
    "    [300, 15, 150], # Mobil a\n",
    "    [250, 18, 180], # Mobil b\n",
    "    [350, 12, 160] # Mobil c\n",
    "])\n",
    "\n",
    "# Nilai kriteria\n",
    "k = [-1,1,1]\n",
    "\n",
    "# Nilai bobot\n",
    "bobot = [5,4,4]\n",
    "\n",
    "df = pd.DataFrame(data, index=alternatif, columns=kriteria)\n",
    "print(df)"
   ]
  },
  {
   "cell_type": "markdown",
   "id": "1029a348",
   "metadata": {},
   "source": [
    "7.3 Normalisasi Nilai Bobot"
   ]
  },
  {
   "cell_type": "code",
   "execution_count": 5,
   "id": "6bd510fb",
   "metadata": {},
   "outputs": [
    {
     "name": "stdout",
     "output_type": "stream",
     "text": [
      "[0.38461538461538464, 0.3076923076923077, 0.3076923076923077]\n"
     ]
    }
   ],
   "source": [
    "# Ambil dimensi dari matriks keputusan\n",
    "# m = jumlah alternatif dan n = jumlah kriteria\n",
    "m = len(data)\n",
    "n = len(data[0])\n",
    "\n",
    "norm_bobot = [nilai/sum(bobot) for nilai in bobot]\n",
    "print(norm_bobot)"
   ]
  },
  {
   "cell_type": "markdown",
   "id": "130c1245",
   "metadata": {},
   "source": [
    "7.4 Menghitung Vektor S"
   ]
  },
  {
   "cell_type": "code",
   "execution_count": 6,
   "id": "ce733798",
   "metadata": {},
   "outputs": [
    {
     "name": "stdout",
     "output_type": "stream",
     "text": [
      "         Vektor S\n",
      "Mobil a  1.198676\n",
      "Mobil b  1.438411\n",
      "Mobil c  1.075868\n"
     ]
    }
   ],
   "source": [
    "s = []\n",
    "\n",
    "for i in range(m):\n",
    "    s_value = 1\n",
    "    for j in range(n):\n",
    "        s_value *= data[i][j] ** (k[j]*norm_bobot[j])\n",
    "    s.append(s_value)\n",
    "\n",
    "s_df = pd.DataFrame(s, index=alternatif, columns=[\"Vektor S\"])\n",
    "print(s_df)"
   ]
  },
  {
   "cell_type": "markdown",
   "id": "cd5bf579",
   "metadata": {},
   "source": [
    "7.5 Menghitung Vektor V"
   ]
  },
  {
   "cell_type": "code",
   "execution_count": 7,
   "id": "bb587079",
   "metadata": {},
   "outputs": [
    {
     "name": "stdout",
     "output_type": "stream",
     "text": [
      "         Vektor V\n",
      "Mobil a  0.322836\n",
      "Mobil b  0.387403\n",
      "Mobil c  0.289760\n",
      "\n",
      "Alternatif terbaik adalah Mobil b\n"
     ]
    }
   ],
   "source": [
    "# menghitung vektor v untuk mencari alternatif terbaik\n",
    "total_s = sum(s)\n",
    "v = [s_value/total_s for s_value in s]\n",
    "\n",
    "# menyajikan ke dalam bentuk dataframe\n",
    "v_df = pd.DataFrame(v, index=alternatif, columns=[\"Vektor V\"])\n",
    "print(v_df)\n",
    "\n",
    "# mencari alternatif terbaik\n",
    "best_alt = alternatif[v.index(max(v))]\n",
    "print(f\"\\nAlternatif terbaik adalah {best_alt}\")"
   ]
  }
 ],
 "metadata": {
  "kernelspec": {
   "display_name": "Python 3",
   "language": "python",
   "name": "python3"
  },
  "language_info": {
   "codemirror_mode": {
    "name": "ipython",
    "version": 3
   },
   "file_extension": ".py",
   "mimetype": "text/x-python",
   "name": "python",
   "nbconvert_exporter": "python",
   "pygments_lexer": "ipython3",
   "version": "3.13.2"
  }
 },
 "nbformat": 4,
 "nbformat_minor": 5
}
